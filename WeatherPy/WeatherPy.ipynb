{
 "cells": [
  {
   "cell_type": "code",
   "execution_count": 1,
   "metadata": {
    "ExecuteTime": {
     "end_time": "2020-10-18T11:24:01.032492Z",
     "start_time": "2020-10-18T11:23:59.780893Z"
    }
   },
   "outputs": [],
   "source": [
    "# Dependencies\n",
    "import matplotlib.pyplot as plt\n",
    "import requests\n",
    "from scipy import stats\n",
    "import pandas as pd\n",
    "from config import api_key\n",
    "from pprint import pprint\n",
    "import numpy as np\n",
    "import json"
   ]
  },
  {
   "cell_type": "code",
   "execution_count": 2,
   "metadata": {
    "ExecuteTime": {
     "end_time": "2020-10-18T11:24:02.680685Z",
     "start_time": "2020-10-18T11:24:01.034472Z"
    }
   },
   "outputs": [
    {
     "data": {
      "text/plain": [
       "565"
      ]
     },
     "execution_count": 2,
     "metadata": {},
     "output_type": "execute_result"
    }
   ],
   "source": [
    "from citipy import citipy\n",
    "\n",
    "# List for Holding lat_lngs & Cities\n",
    "lat_lngs = []\n",
    "cities = []\n",
    "\n",
    "# Create a Set of Random lat & lng Combinations\n",
    "np.random.seed(42) # to show consistent result\n",
    "lats = np.random.uniform(low=-90.000, high=90.000, size=1300)\n",
    "lngs = np.random.uniform(low=-180.000, high=180.000, size=1300)\n",
    "lat_lngs = zip(lats, lngs)\n",
    "\n",
    "# Identify Nearest City for Each lat, lng Combination\n",
    "for lat_lng in lat_lngs:\n",
    "    city = citipy.nearest_city(lat_lng[0], lat_lng[1]).city_name\n",
    "    \n",
    "    # If the City is Unique, Then Add it to a Cities List\n",
    "    if city not in cities:\n",
    "        cities.append(city)\n",
    "        \n",
    "# Check the number of cities in the list\n",
    "len(cities)"
   ]
  },
  {
   "cell_type": "code",
   "execution_count": 3,
   "metadata": {
    "ExecuteTime": {
     "end_time": "2020-10-18T11:24:02.848393Z",
     "start_time": "2020-10-18T11:24:02.686166Z"
    }
   },
   "outputs": [
    {
     "name": "stdout",
     "output_type": "stream",
     "text": [
      "{'base': 'stations',\n",
      " 'clouds': {'all': 1},\n",
      " 'cod': 200,\n",
      " 'coord': {'lat': 40.6, 'lon': -124.16},\n",
      " 'dt': 1603019794,\n",
      " 'id': 5563839,\n",
      " 'main': {'feels_like': 45.16,\n",
      "          'humidity': 100,\n",
      "          'pressure': 1018,\n",
      "          'temp': 48.2,\n",
      "          'temp_max': 48.2,\n",
      "          'temp_min': 48.2},\n",
      " 'name': 'Fortuna',\n",
      " 'sys': {'country': 'US',\n",
      "         'id': 4127,\n",
      "         'sunrise': 1603031486,\n",
      "         'sunset': 1603071093,\n",
      "         'type': 1},\n",
      " 'timezone': -25200,\n",
      " 'visibility': 10000,\n",
      " 'weather': [{'description': 'clear sky',\n",
      "              'icon': '01n',\n",
      "              'id': 800,\n",
      "              'main': 'Clear'}],\n",
      " 'wind': {'deg': 140, 'speed': 4.7}}\n"
     ]
    }
   ],
   "source": [
    "# Save config information.\n",
    "url = \"http://api.openweathermap.org/data/2.5/weather?\"\n",
    "units = \"imperial\"\n",
    "\n",
    "# Build partial query URL\n",
    "query_url = f\"{url}appid={api_key}&units={units}&q=\"\n",
    "\n",
    "#check the data layout to identify the list or dictionary to be used\n",
    "weather = requests.get(query_url + city)\n",
    "weather = weather.json()\n",
    "pprint(weather)"
   ]
  },
  {
   "cell_type": "code",
   "execution_count": 4,
   "metadata": {
    "ExecuteTime": {
     "end_time": "2020-10-18T11:25:20.269487Z",
     "start_time": "2020-10-18T11:24:02.849849Z"
    }
   },
   "outputs": [
    {
     "name": "stdout",
     "output_type": "stream",
     "text": [
      "1 : Alofi\n",
      "2 : Cherskiy\n",
      "3 : Saint Paul Harbor\n",
      "4 : Bilma\n",
      "5 : Saint-Philippe\n",
      "6 : New Norfolk\n",
      "7 : Busselton\n",
      "8 : Aykhal\n",
      "9 : Saint-François\n",
      "10 : Yuci\n",
      "11 : Mataura\n",
      "Error in finding city\n",
      "12 : Enköping\n",
      "13 : Albany\n",
      "14 : Arraial do Cabo\n",
      "Error in finding city\n",
      "15 : Saldanha\n",
      "16 : Hambantota\n",
      "17 : Faanui\n",
      "18 : Avarua\n",
      "19 : Campeche\n",
      "20 : Rikitea\n",
      "21 : Port Lincoln\n",
      "22 : Puerto Ayora\n",
      "Error in finding city\n",
      "23 : Saint-Augustin\n",
      "24 : Mersing\n",
      "25 : Salalah\n",
      "26 : Hermanus\n",
      "27 : Faya\n",
      "28 : Souillac\n",
      "29 : Punta Arenas\n",
      "30 : Leningradskiy\n",
      "31 : Pevek\n",
      "32 : Verkhneyarkeyevo\n",
      "Error in finding city\n",
      "33 : Kapaa\n",
      "Error in finding city\n",
      "34 : George Town\n",
      "35 : Hobart\n",
      "36 : Dikson\n",
      "37 : Ponta Delgada\n",
      "38 : Minas\n",
      "39 : Salinópolis\n",
      "40 : Butaritari\n",
      "41 : Tiksi\n",
      "42 : Pavlivka\n",
      "Error in finding city\n",
      "Error in finding city\n",
      "43 : Goundam\n",
      "44 : Chui\n",
      "45 : Ushuaia\n",
      "46 : Durban\n",
      "47 : Bowen\n",
      "48 : Ancud\n",
      "49 : Kologriv\n",
      "50 : Atuona\n",
      "51 : Ekhabi\n",
      "52 : Qaanaaq\n",
      "53 : Nikolskoye\n",
      "54 : Edzell\n",
      "55 : Poplar Bluff\n",
      "56 : Vrangel'\n",
      "57 : Dingle\n",
      "58 : Irati\n",
      "59 : Port Elizabeth\n",
      "60 : Norman Wells\n",
      "61 : Ponta do Sol\n",
      "62 : Ahipara\n",
      "63 : Saint-Joseph\n",
      "64 : San Francisco\n",
      "65 : Jiayuguan City\n",
      "66 : Lompoc\n",
      "67 : Moses Lake\n",
      "68 : Funtua\n",
      "69 : Stephenville\n",
      "70 : Samarinda\n",
      "71 : São Filipe\n",
      "72 : San Cristobal\n",
      "73 : Port Alfred\n",
      "74 : Guerrero Negro\n",
      "Error in finding city\n",
      "75 : Jamestown\n",
      "76 : Broome\n",
      "77 : Darhan\n",
      "78 : Lebu\n",
      "79 : Bethel\n",
      "80 : Kiryat Gat\n",
      "81 : Srednekolymsk\n",
      "82 : Husavik\n",
      "83 : Kavieng\n",
      "84 : Sept-Îles\n",
      "85 : Roald\n",
      "86 : Dunedin\n",
      "87 : Sola\n",
      "88 : Provideniya\n",
      "89 : Sorong\n",
      "90 : Cape Town\n",
      "91 : Tuktoyaktuk\n",
      "92 : Vaini\n",
      "Error in finding city\n",
      "93 : Gilgit\n",
      "94 : Hong Kong\n",
      "95 : Verāval\n",
      "96 : Gorontalo\n",
      "97 : Bluff\n",
      "98 : Klaksvík\n",
      "Error in finding city\n",
      "99 : Kindu\n",
      "100 : Barrow\n",
      "101 : Loralai\n",
      "Error in finding city\n",
      "102 : Castro\n",
      "103 : Akdepe\n",
      "104 : São João da Barra\n",
      "105 : Abu Dhabi\n",
      "106 : Hilo\n",
      "107 : Bandarbeyla\n",
      "108 : Kaitangata\n",
      "109 : Kaset Sombun\n",
      "Error in finding city\n",
      "110 : Biak\n",
      "111 : Hamilton\n",
      "112 : Sanmenxia\n",
      "113 : Labuhan\n",
      "114 : Khatanga\n",
      "115 : Geraldton\n",
      "116 : Longyearbyen\n",
      "Error in finding city\n",
      "117 : Rawson\n",
      "118 : Saint George\n",
      "119 : Nanortalik\n",
      "120 : Kavaratti\n",
      "121 : Acaraú\n",
      "122 : Ilulissat\n",
      "123 : Thompson\n",
      "124 : Kahului\n",
      "125 : Richards Bay\n",
      "126 : Kars\n",
      "127 : Tasiilaq\n",
      "128 : Talakan\n",
      "129 : Upernavik\n",
      "130 : Sinnamary\n",
      "131 : Kruisfontein\n",
      "132 : Mizdah\n",
      "133 : Labuan\n",
      "134 : Leh\n",
      "Error in finding city\n",
      "135 : Redlands\n",
      "136 : Mombetsu\n",
      "137 : Morgan City\n",
      "138 : Seymchan\n",
      "139 : Arica\n",
      "140 : Marzuq\n",
      "141 : Port-Cartier\n",
      "142 : Garissa\n",
      "143 : Bāgepalli\n",
      "144 : Manta\n",
      "145 : Fortuna\n",
      "146 : Havøysund\n",
      "Error in finding city\n",
      "147 : Bambanglipuro\n",
      "148 : Blagoyevo\n",
      "149 : Te Anau\n",
      "150 : Beira\n",
      "151 : Almaznyy\n",
      "152 : Port Pirie\n",
      "153 : Acapulco de Juárez\n",
      "154 : Ostrovnoy\n",
      "155 : Ribeira Grande\n",
      "156 : Cajimos\n",
      "157 : Codrington\n",
      "158 : Pizarro\n",
      "159 : Udachny\n",
      "160 : Lagoa\n",
      "161 : Torbat-e Jām\n",
      "162 : Beloha\n",
      "163 : Velizh\n",
      "164 : Beaverlodge\n",
      "165 : Igarka\n",
      "166 : Manama\n",
      "167 : Manbij\n",
      "168 : Piła\n",
      "169 : Maxixe\n",
      "170 : Hithadhoo\n",
      "171 : Itarema\n",
      "172 : Nāgar Karnūl\n",
      "173 : Juneau\n",
      "174 : Yambio\n",
      "175 : Timmins\n",
      "176 : Ciudad Bolivar\n",
      "177 : Pochutla\n",
      "Error in finding city\n",
      "178 : Gimli\n",
      "179 : Nhulunbuy\n",
      "180 : East London\n",
      "181 : Narsaq\n",
      "182 : Pangnirtung\n",
      "183 : Asău\n",
      "184 : Bredasdorp\n",
      "185 : Lunsar\n",
      "186 : Jalu\n",
      "187 : South Kazakhstan Region\n",
      "188 : Coahuayana Viejo\n",
      "189 : Tautira\n",
      "190 : Carnarvon\n",
      "191 : Marystown\n",
      "192 : Pacifica\n",
      "193 : Lékoni\n",
      "194 : Katobu\n",
      "Error in finding city\n",
      "195 : Teknāf\n",
      "196 : Dhār\n",
      "Error in finding city\n",
      "197 : Iqaluit\n",
      "198 : Callaway\n",
      "199 : Hasaki\n",
      "200 : Baní\n",
      "201 : Dakar\n",
      "202 : Kandrian\n",
      "203 : Kintampo\n",
      "204 : Yellowknife\n",
      "205 : Shiyan\n",
      "206 : Los Andes\n",
      "207 : Anchorage\n",
      "208 : Grimshaw\n",
      "209 : Mahébourg\n",
      "210 : Abu Samrah\n",
      "211 : North Bend\n",
      "Error in finding city\n",
      "212 : Batemans Bay\n",
      "213 : Troitskaya\n",
      "214 : Aginskoye\n",
      "215 : Vila Velha\n",
      "216 : Port Hardy\n",
      "217 : Imbituba\n",
      "218 : Lavrentiya\n",
      "219 : Šaľa\n",
      "220 : São Gabriel da Cachoeira\n",
      "221 : Visnes\n",
      "222 : Aklavik\n",
      "Error in finding city\n",
      "223 : Gambissara\n",
      "224 : Bambous Virieux\n",
      "225 : Monticello\n",
      "226 : Kitimat\n",
      "227 : Sitka\n",
      "228 : Mossamedes\n",
      "Error in finding city\n",
      "229 : Arlit\n",
      "230 : Kodamachō-kodamaminami\n",
      "Error in finding city\n",
      "231 : Torbay\n",
      "232 : Olafsvik\n",
      "233 : Escanaba\n",
      "Error in finding city\n",
      "234 : Planá\n",
      "Error in finding city\n",
      "235 : Pontianak\n",
      "236 : Hirara\n",
      "237 : Mopti\n",
      "238 : Tartagal\n",
      "239 : Vestmanna\n",
      "240 : Mar del Plata\n",
      "241 : Marang\n",
      "242 : Praia\n",
      "Error in finding city\n",
      "243 : Deputatsky\n",
      "244 : Margate\n",
      "245 : Sørland\n",
      "246 : Kiri Buru\n",
      "247 : Tadpatri\n",
      "248 : Severo-Kuril'sk\n",
      "249 : Kalmunai\n",
      "250 : Chapais\n",
      "251 : Slave Lake\n",
      "252 : Ibrā’\n",
      "253 : Bengkulu\n",
      "254 : Tocopilla\n",
      "255 : Tinskoy\n",
      "Error in finding city\n",
      "256 : San Patricio\n",
      "257 : Baykit\n",
      "258 : Koygorodok\n",
      "259 : Loandjili\n",
      "260 : Hokitika\n",
      "261 : Vardø\n",
      "262 : Port Blair\n",
      "263 : Kyra\n",
      "264 : Mayo\n",
      "265 : Viedma\n",
      "266 : Buin\n",
      "267 : Sakakah\n",
      "268 : Pisco\n",
      "269 : Esqueda\n",
      "Error in finding city\n",
      "270 : Buenaventura\n",
      "271 : Mirny\n",
      "272 : Bacolod City\n",
      "273 : Talisayan\n",
      "274 : Zyryanka\n",
      "275 : Hualmay\n",
      "276 : Zhenlai\n",
      "277 : Baloda Bāzār\n",
      "278 : Xining\n",
      "279 : Vao\n",
      "Error in finding city\n",
      "280 : Bintulu\n",
      "281 : Melville\n",
      "282 : Basco\n",
      "283 : Krasnosel'kup\n",
      "284 : Caucayá\n",
      "285 : Plettenberg Bay\n",
      "286 : Mogadishu\n",
      "287 : San Quintín\n",
      "288 : Skjervøy\n",
      "289 : Matara\n",
      "290 : Juquiá\n",
      "291 : Barcelos\n",
      "292 : Pacific Grove\n",
      "293 : Chumikan\n",
      "294 : Dalvik\n",
      "Error in finding city\n",
      "295 : Senador José Porfírio\n",
      "296 : Bac Ninh\n",
      "297 : Inyonga\n",
      "298 : Cervo\n",
      "299 : Kula\n",
      "300 : Øksfjord\n",
      "301 : Lisala\n",
      "302 : Gīdolē\n",
      "Error in finding city\n",
      "303 : Avera\n",
      "304 : Santa Maria\n",
      "305 : Havre-St-Pierre\n",
      "306 : Puerto Escondido\n",
      "307 : Wagar\n",
      "308 : Kuytun\n",
      "Error in finding city\n",
      "309 : Bo Rai\n",
      "310 : San Vicente\n",
      "311 : Saskylakh\n",
      "312 : Abonnema\n",
      "313 : Corrales\n",
      "314 : Maceió\n",
      "315 : Zhigansk\n",
      "316 : Athabasca\n",
      "317 : Marrakesh\n",
      "318 : Kattivākkam\n",
      "319 : Praia da Vitória\n",
      "320 : Wajir\n",
      "321 : Nizwá\n",
      "322 : Gualaquiza\n",
      "323 : Moree\n",
      "324 : Lesogorsk\n",
      "Error in finding city\n",
      "325 : Madang\n",
      "326 : Lüderitz\n",
      "327 : Nuuk\n",
      "328 : Chokurdakh\n",
      "Error in finding city\n",
      "329 : Jelgava\n",
      "330 : Teguise\n",
      "331 : Inhambane\n",
      "332 : Kangaatsiaq\n",
      "333 : Smithers\n",
      "334 : Atambua\n",
      "335 : George\n",
      "336 : Acqui Terme\n",
      "337 : Dhidhdhoo\n",
      "338 : Andenes\n",
      "339 : Byron Bay\n",
      "340 : Kartaly\n",
      "341 : Atar\n",
      "342 : Wschowa\n",
      "343 : Muros\n",
      "344 : Billings Metropolitan Area\n",
      "345 : Stranda\n",
      "Error in finding city\n",
      "346 : Imeni Poliny Osipenko\n",
      "347 : Camacha\n",
      "348 : Myitkyina\n",
      "349 : Rome\n",
      "350 : Cap Malheureux\n",
      "351 : Singaraja\n",
      "352 : Mehamn\n",
      "353 : Bosaso\n",
      "354 : Pingliang\n",
      "355 : Nemuro\n",
      "356 : Cabo San Lucas\n",
      "357 : Diu\n",
      "358 : Banjar\n",
      "359 : Yarmouth\n",
      "360 : Santiago de Cao\n",
      "361 : La Ronge\n",
      "362 : Usinsk\n",
      "363 : Angoche\n",
      "364 : Port Augusta\n",
      "365 : Barguzin\n",
      "366 : Belmonte\n",
      "367 : Kamenka\n",
      "368 : Olinda\n",
      "Error in finding city\n",
      "Error in finding city\n",
      "369 : Alyangula\n",
      "370 : Itoman\n",
      "371 : Hūn\n",
      "372 : Karratha\n",
      "373 : Esim\n",
      "374 : Catuday\n",
      "375 : Baker City\n",
      "376 : Itaituba\n",
      "377 : Oussouye\n",
      "378 : Chingirlau\n",
      "379 : Mitsamiouli\n",
      "380 : Roura\n",
      "381 : Kupang\n",
      "382 : Muzhi\n",
      "383 : Kununurra\n",
      "384 : Harrisonburg\n",
      "Error in finding city\n",
      "385 : Río Gallegos\n",
      "386 : Pecos\n",
      "387 : Rayevskiy\n",
      "388 : Tuatapere\n",
      "389 : Naze\n",
      "390 : Zionsville\n",
      "Error in finding city\n",
      "391 : Sos'va\n",
      "392 : Shakawe\n",
      "393 : Yulara\n",
      "394 : Moranbah\n",
      "Error in finding city\n",
      "395 : Norsup\n",
      "Error in finding city\n",
      "396 : Iberia\n",
      "397 : Lermontovka\n",
      "398 : Staryy Nadym\n",
      "399 : Djambala\n",
      "400 : Fairbanks\n",
      "401 : Sioux Lookout\n",
      "402 : Liku\n",
      "403 : Bariloche\n",
      "404 : Mīzan Teferī\n",
      "405 : Cockburn Town\n",
      "406 : Coyhaique\n",
      "407 : Sarangani\n",
      "408 : Puerto Madero\n",
      "409 : Abnūb\n",
      "410 : Beringovskiy\n",
      "411 : Mount Gambier\n",
      "412 : Lovozero\n",
      "413 : Letlhakane\n",
      "Error in finding city\n",
      "414 : Kulu\n",
      "415 : Ocós\n",
      "416 : Omboué\n",
      "417 : Palencia\n",
      "418 : Puri\n",
      "419 : Eureka\n",
      "420 : Tosagua\n",
      "421 : Pimenta Bueno\n",
      "422 : Korablino\n",
      "423 : Hope Mills\n",
      "424 : Abalak\n",
      "425 : Alta Floresta\n",
      "426 : Raja\n",
      "427 : Middletown\n",
      "428 : Sobolevo\n",
      "429 : Dvinskoy Bereznik\n",
      "430 : Oriximiná\n",
      "Error in finding city\n",
      "431 : Auki\n",
      "432 : Egvekinot\n",
      "433 : Lahaina\n",
      "434 : Sabang\n",
      "435 : Sur\n",
      "436 : Umba\n",
      "437 : Ust-Tsilma\n",
      "438 : Lorengau\n",
      "439 : Poronaysk\n",
      "440 : Vaitape\n",
      "441 : Dolisie\n",
      "442 : La Tuque\n",
      "443 : Chibombo\n",
      "444 : Maciel\n",
      "445 : Esperance\n",
      "446 : Iquique\n",
      "447 : Jiangyou\n",
      "448 : Shilka\n",
      "449 : Samarai\n",
      "Error in finding city\n",
      "450 : Kalemie\n",
      "451 : Bathsheba\n",
      "452 : Aksay\n",
      "453 : Tupaciguara\n",
      "454 : Mandan\n",
      "455 : Yurginskoye\n",
      "456 : Kidal\n",
      "457 : Nome\n",
      "458 : Forsytheganj\n",
      "459 : Westport\n",
      "460 : Marsh Harbour\n",
      "461 : Airai\n",
      "462 : Luganville\n",
      "463 : Villazón\n",
      "464 : Portland\n",
      "465 : Niksar\n",
      "466 : Nhamundá\n",
      "467 : Brazzaville\n",
      "468 : Constitución\n",
      "469 : Visby\n",
      "470 : Along\n",
      "471 : Bulalacao\n",
      "472 : Clyde River\n",
      "Error in finding city\n",
      "473 : Sahuaripa\n",
      "474 : Sisimiut\n",
      "475 : Bloomingdale\n",
      "476 : Tilichiki\n",
      "477 : Methóni\n",
      "478 : Marawi\n",
      "479 : Ucluelet\n"
     ]
    },
    {
     "name": "stdout",
     "output_type": "stream",
     "text": [
      "480 : Mezen'\n",
      "481 : Putineiu\n",
      "482 : Ejido Ixcatepec\n",
      "483 : Katsuura\n",
      "484 : Kloulklubed\n",
      "485 : Prince Rupert\n",
      "486 : Bac Lieu\n",
      "Error in finding city\n",
      "487 : Manzhouli\n",
      "488 : Fukuechō\n",
      "489 : Merauke\n",
      "490 : Cidreira\n",
      "491 : Den Helder\n",
      "492 : Kifrī\n",
      "Error in finding city\n",
      "493 : Shahdad Kot\n",
      "494 : Pangoa\n",
      "495 : Key Largo\n",
      "496 : Banepā\n",
      "497 : Port Hedland\n",
      "498 : Turukhansk\n",
      "499 : Talnakh\n",
      "500 : Erzin\n",
      "501 : Nehe\n",
      "502 : Puksoozero\n",
      "503 : Taoudenni\n",
      "504 : Saint Anthony\n",
      "505 : Lata\n",
      "506 : Iquitos\n",
      "507 : Gorom-Gorom\n",
      "Error in finding city\n",
      "508 : Yantzaza\n",
      "509 : Wanning\n",
      "510 : Ulladulla\n",
      "Error in finding city\n",
      "511 : Waitati\n",
      "512 : Kaminokawa\n",
      "513 : Natitingou\n",
      "514 : Wanlaweyn\n",
      "515 : Mongo\n",
      "Error in finding city\n",
      "516 : Andros Town\n",
      "Search Completed\n"
     ]
    }
   ],
   "source": [
    "#cities = [\"Paris\", \"London\", \"Oslo\", \"Beijing\", \"Mumbai\", \"Manila\", \"New York\", \"Seattle\", \"Dallas\", \"Taipei\"]\n",
    "\n",
    "# set up lists to hold reponse info\n",
    "city_name = []\n",
    "country = []\n",
    "lat = []\n",
    "lng = []\n",
    "temp = []\n",
    "humidity = []\n",
    "cloudiness = []\n",
    "wind_speed = []\n",
    "date = []\n",
    "\n",
    "#processing starting from 0\n",
    "count = 1\n",
    "\n",
    "# Loop through the list of cities and perform a request for data.\n",
    "for city in cities:\n",
    "    \n",
    "#error handling\n",
    "    try:\n",
    "        response = requests.get(query_url + city).json()\n",
    "        city_name.append(response['name'])\n",
    "        country.append(response['sys']['country'])\n",
    "        lat.append(response['coord']['lat'])\n",
    "        lng.append(response['coord']['lon'])\n",
    "        temp.append(response['main']['temp_max'])\n",
    "        humidity.append(response['main']['humidity'])\n",
    "        cloudiness.append(response['clouds']['all'])\n",
    "        wind_speed.append(response['wind']['speed'])\n",
    "        date.append(response['dt'])\n",
    "        city_list = response['name']\n",
    "        print(f\"{count} : {city_list}\")\n",
    "        \n",
    "        #loop to the next one\n",
    "        count += 1\n",
    "        \n",
    "    except:\n",
    "        print(\"Error in finding city\")\n",
    "        \n",
    "    continue\n",
    "    \n",
    "print(\"Search Completed\")"
   ]
  },
  {
   "cell_type": "code",
   "execution_count": 5,
   "metadata": {
    "ExecuteTime": {
     "end_time": "2020-10-18T11:25:20.289499Z",
     "start_time": "2020-10-18T11:25:20.270620Z"
    }
   },
   "outputs": [
    {
     "data": {
      "text/plain": [
       "City           516\n",
       "Country        516\n",
       "Latitude       516\n",
       "longitude      516\n",
       "Temperature    516\n",
       "Humidity       516\n",
       "Cloudiness     516\n",
       "Wind Speed     516\n",
       "Date           516\n",
       "dtype: int64"
      ]
     },
     "execution_count": 5,
     "metadata": {},
     "output_type": "execute_result"
    }
   ],
   "source": [
    "# Create a DataFrame\n",
    "weather_df = {\n",
    "    \"City\": city_name,\n",
    "    \"Country\": country,\n",
    "    \"Latitude\": lat,\n",
    "    \"longitude\": lng,\n",
    "    \"Temperature\": temp,\n",
    "    \"Humidity\": humidity,\n",
    "    \"Cloudiness\": cloudiness,\n",
    "    \"Wind Speed\": wind_speed,\n",
    "    \"Date\":date,\n",
    "}\n",
    "\n",
    "weather_df = pd.DataFrame(weather_df)\n",
    "weather_df.to_csv (r'C:\\Users\\TEHS\\python-api-challenge\\WeatherPy\\Weather.csv', index = False, header=True)\n",
    "\n",
    "#make sure it is still above 500\n",
    "weather_df.count()"
   ]
  },
  {
   "cell_type": "code",
   "execution_count": 6,
   "metadata": {
    "ExecuteTime": {
     "end_time": "2020-10-18T11:25:20.302815Z",
     "start_time": "2020-10-18T11:25:20.290460Z"
    }
   },
   "outputs": [
    {
     "data": {
      "text/html": [
       "<div>\n",
       "<style scoped>\n",
       "    .dataframe tbody tr th:only-of-type {\n",
       "        vertical-align: middle;\n",
       "    }\n",
       "\n",
       "    .dataframe tbody tr th {\n",
       "        vertical-align: top;\n",
       "    }\n",
       "\n",
       "    .dataframe thead th {\n",
       "        text-align: right;\n",
       "    }\n",
       "</style>\n",
       "<table border=\"1\" class=\"dataframe\">\n",
       "  <thead>\n",
       "    <tr style=\"text-align: right;\">\n",
       "      <th></th>\n",
       "      <th>City</th>\n",
       "      <th>Country</th>\n",
       "      <th>Latitude</th>\n",
       "      <th>longitude</th>\n",
       "      <th>Temperature</th>\n",
       "      <th>Humidity</th>\n",
       "      <th>Cloudiness</th>\n",
       "      <th>Wind Speed</th>\n",
       "      <th>Date</th>\n",
       "    </tr>\n",
       "  </thead>\n",
       "  <tbody>\n",
       "    <tr>\n",
       "      <th>0</th>\n",
       "      <td>Alofi</td>\n",
       "      <td>NU</td>\n",
       "      <td>-19.06</td>\n",
       "      <td>-169.92</td>\n",
       "      <td>78.80</td>\n",
       "      <td>94</td>\n",
       "      <td>84</td>\n",
       "      <td>6.93</td>\n",
       "      <td>1603019794</td>\n",
       "    </tr>\n",
       "    <tr>\n",
       "      <th>1</th>\n",
       "      <td>Cherskiy</td>\n",
       "      <td>RU</td>\n",
       "      <td>68.75</td>\n",
       "      <td>161.30</td>\n",
       "      <td>20.84</td>\n",
       "      <td>92</td>\n",
       "      <td>77</td>\n",
       "      <td>9.95</td>\n",
       "      <td>1603019794</td>\n",
       "    </tr>\n",
       "    <tr>\n",
       "      <th>2</th>\n",
       "      <td>Saint Paul Harbor</td>\n",
       "      <td>US</td>\n",
       "      <td>57.79</td>\n",
       "      <td>-152.41</td>\n",
       "      <td>37.40</td>\n",
       "      <td>81</td>\n",
       "      <td>75</td>\n",
       "      <td>3.36</td>\n",
       "      <td>1603019794</td>\n",
       "    </tr>\n",
       "    <tr>\n",
       "      <th>3</th>\n",
       "      <td>Bilma</td>\n",
       "      <td>NE</td>\n",
       "      <td>18.69</td>\n",
       "      <td>12.92</td>\n",
       "      <td>98.76</td>\n",
       "      <td>8</td>\n",
       "      <td>0</td>\n",
       "      <td>2.77</td>\n",
       "      <td>1603019794</td>\n",
       "    </tr>\n",
       "    <tr>\n",
       "      <th>4</th>\n",
       "      <td>Saint-Philippe</td>\n",
       "      <td>RE</td>\n",
       "      <td>-21.36</td>\n",
       "      <td>55.77</td>\n",
       "      <td>82.40</td>\n",
       "      <td>61</td>\n",
       "      <td>90</td>\n",
       "      <td>17.22</td>\n",
       "      <td>1603019794</td>\n",
       "    </tr>\n",
       "  </tbody>\n",
       "</table>\n",
       "</div>"
      ],
      "text/plain": [
       "                City Country  Latitude  longitude  Temperature  Humidity  \\\n",
       "0              Alofi      NU    -19.06    -169.92        78.80        94   \n",
       "1           Cherskiy      RU     68.75     161.30        20.84        92   \n",
       "2  Saint Paul Harbor      US     57.79    -152.41        37.40        81   \n",
       "3              Bilma      NE     18.69      12.92        98.76         8   \n",
       "4     Saint-Philippe      RE    -21.36      55.77        82.40        61   \n",
       "\n",
       "   Cloudiness  Wind Speed        Date  \n",
       "0          84        6.93  1603019794  \n",
       "1          77        9.95  1603019794  \n",
       "2          75        3.36  1603019794  \n",
       "3           0        2.77  1603019794  \n",
       "4          90       17.22  1603019794  "
      ]
     },
     "execution_count": 6,
     "metadata": {},
     "output_type": "execute_result"
    }
   ],
   "source": [
    "#display data frame\n",
    "weather_df.head()"
   ]
  },
  {
   "cell_type": "markdown",
   "metadata": {},
   "source": [
    "# Temperature (F) vs. Latitude"
   ]
  },
  {
   "cell_type": "code",
   "execution_count": 7,
   "metadata": {
    "ExecuteTime": {
     "end_time": "2020-10-18T11:25:20.488383Z",
     "start_time": "2020-10-18T11:25:20.304806Z"
    }
   },
   "outputs": [
    {
     "name": "stdout",
     "output_type": "stream",
     "text": [
      "The correlation between both factors is -0.58\n"
     ]
    },
    {
     "data": {
      "image/png": "[encoded data removed]",
      "text/plain": [
       "<Figure size 432x288 with 1 Axes>"
      ]
     },
     "metadata": {
      "needs_background": "light"
     },
     "output_type": "display_data"
    }
   ],
   "source": [
    "tempvslat = weather_df.plot.scatter(x='Latitude',\n",
    "                                    y='Temperature',\n",
    "                                    c='DarkBlue')\n",
    "plt.title('Temperature (F) vs. Latitude')\n",
    "x = weather_df['Latitude']\n",
    "y = weather_df['Temperature']\n",
    "correlation = stats.pearsonr(x,y)\n",
    "print(f\"The correlation between both factors is {round(correlation[0],2)}\")\n",
    "plt.savefig('tempvslat.png')"
   ]
  },
  {
   "cell_type": "markdown",
   "metadata": {},
   "source": [
    " The plot shows strong, non linear relationship between temperature and latitude.\n",
    " At zero latitude, we can see the temperature is higer, as the latitude increases, the temperature drop. "
   ]
  },
  {
   "cell_type": "markdown",
   "metadata": {},
   "source": [
    "# Humidity (%) vs. Latitude"
   ]
  },
  {
   "cell_type": "code",
   "execution_count": 8,
   "metadata": {
    "ExecuteTime": {
     "end_time": "2020-10-18T11:25:20.636065Z",
     "start_time": "2020-10-18T11:25:20.489834Z"
    }
   },
   "outputs": [
    {
     "name": "stdout",
     "output_type": "stream",
     "text": [
      "The correlation between both factors is 0.08\n"
     ]
    },
    {
     "data": {
      "image/png": "[encoded data removed]",
      "text/plain": [
       "<Figure size 432x288 with 1 Axes>"
      ]
     },
     "metadata": {
      "needs_background": "light"
     },
     "output_type": "display_data"
    }
   ],
   "source": [
    "humvslat = weather_df.plot.scatter(x='Latitude',\n",
    "                                    y='Humidity',\n",
    "                                    c='DarkBlue')\n",
    "plt.title('Humidity (%) vs. Latitude')\n",
    "x = weather_df['Latitude']\n",
    "y = weather_df['Humidity']\n",
    "correlation = stats.pearsonr(x,y)\n",
    "print(f\"The correlation between both factors is {round(correlation[0],2)}\")\n",
    "plt.savefig('humidityvslat.png')"
   ]
  },
  {
   "cell_type": "markdown",
   "metadata": {},
   "source": [
    "The plot shows low positive correlation between humidity vs latitude. \n",
    "As the latitude increases, the humidity increases"
   ]
  },
  {
   "cell_type": "markdown",
   "metadata": {},
   "source": [
    "# Cloudiness (%) vs. Latitude"
   ]
  },
  {
   "cell_type": "code",
   "execution_count": 9,
   "metadata": {
    "ExecuteTime": {
     "end_time": "2020-10-18T11:25:20.839424Z",
     "start_time": "2020-10-18T11:25:20.638513Z"
    }
   },
   "outputs": [
    {
     "name": "stdout",
     "output_type": "stream",
     "text": [
      "The correlation between both factors is 0.02\n"
     ]
    },
    {
     "data": {
      "image/png": "[encoded data removed]",
      "text/plain": [
       "<Figure size 432x288 with 1 Axes>"
      ]
     },
     "metadata": {
      "needs_background": "light"
     },
     "output_type": "display_data"
    }
   ],
   "source": [
    "humvslat = weather_df.plot.scatter(x='Latitude',\n",
    "                                    y='Cloudiness',\n",
    "                                    c='DarkBlue')\n",
    "plt.title('Cloudiness (%) vs. Latitude')\n",
    "x = weather_df['Latitude']\n",
    "y = weather_df['Cloudiness']\n",
    "correlation = stats.pearsonr(x,y)\n",
    "print(f\"The correlation between both factors is {round(correlation[0],2)}\")\n",
    "plt.savefig('Cloudinessvslat.png')"
   ]
  },
  {
   "cell_type": "markdown",
   "metadata": {},
   "source": [
    "The plot shows very weak correlation between cloudiness and latitude as the plot is scatter widely across the latitude"
   ]
  },
  {
   "cell_type": "markdown",
   "metadata": {},
   "source": [
    "# Wind Speed (mph) vs. Latitude"
   ]
  },
  {
   "cell_type": "code",
   "execution_count": 10,
   "metadata": {
    "ExecuteTime": {
     "end_time": "2020-10-18T11:25:20.985744Z",
     "start_time": "2020-10-18T11:25:20.841383Z"
    }
   },
   "outputs": [
    {
     "name": "stdout",
     "output_type": "stream",
     "text": [
      "The correlation between both factors is 0.03\n"
     ]
    },
    {
     "data": {
      "image/png": "[encoded data removed]",
      "text/plain": [
       "<Figure size 432x288 with 1 Axes>"
      ]
     },
     "metadata": {
      "needs_background": "light"
     },
     "output_type": "display_data"
    }
   ],
   "source": [
    "humvslat = weather_df.plot.scatter(x='Latitude',\n",
    "                                    y='Wind Speed',\n",
    "                                    c='DarkBlue')\n",
    "plt.title('Wind Speed (%) vs. Latitude')\n",
    "x = weather_df['Latitude']\n",
    "y = weather_df['Wind Speed']\n",
    "correlation = stats.pearsonr(x,y)\n",
    "print(f\"The correlation between both factors is {round(correlation[0],2)}\")\n",
    "plt.savefig('WindSpeedvslat.png')"
   ]
  },
  {
   "cell_type": "markdown",
   "metadata": {},
   "source": [
    "The plot shows very weak correlation between wind speed and latitude as the plot is scatter widely across the latitude"
   ]
  },
  {
   "cell_type": "markdown",
   "metadata": {},
   "source": [
    "# Northern Hemisphere (greater than or equal to 0 degrees latitude) and Southern Hemisphere (less than 0 degrees latitude)"
   ]
  },
  {
   "cell_type": "code",
   "execution_count": 11,
   "metadata": {
    "ExecuteTime": {
     "end_time": "2020-10-18T11:25:20.995220Z",
     "start_time": "2020-10-18T11:25:20.987220Z"
    }
   },
   "outputs": [],
   "source": [
    "#Northern and Southern Hemisphere \n",
    "northern_df = weather_df.loc[weather_df[\"Latitude\"] >= 0]\n",
    "southern_df = weather_df.loc[weather_df[\"Latitude\"] < 0]"
   ]
  },
  {
   "cell_type": "markdown",
   "metadata": {},
   "source": [
    "# Northern Hemisphere - Temperature (F) vs. Latitude"
   ]
  },
  {
   "cell_type": "code",
   "execution_count": 12,
   "metadata": {
    "ExecuteTime": {
     "end_time": "2020-10-18T11:25:21.153491Z",
     "start_time": "2020-10-18T11:25:20.996526Z"
    }
   },
   "outputs": [
    {
     "data": {
      "image/png": "[encoded data removed]",
      "text/plain": [
       "<Figure size 432x288 with 1 Axes>"
      ]
     },
     "metadata": {
      "needs_background": "light"
     },
     "output_type": "display_data"
    },
    {
     "name": "stdout",
     "output_type": "stream",
     "text": [
      "The r-squared is: 0.761275624424095\n"
     ]
    }
   ],
   "source": [
    "from scipy.stats import linregress\n",
    "#linear regression\n",
    "x_values = northern_df['Latitude']\n",
    "y_values = northern_df['Temperature']\n",
    "(slope, intercept, rvalue, pvalue, stderr) = linregress(x_values, y_values)\n",
    "regress_values = x_values * slope + intercept\n",
    "line_eq = \"y = \" + str(round(slope,2)) + \"x + \" + str(round(intercept,2))\n",
    "plt.scatter(x_values,y_values)\n",
    "plt.plot(x_values,regress_values,\"r-\")\n",
    "plt.annotate(line_eq,(6,10),fontsize=15,color=\"red\")\n",
    "plt.xlabel('Latitude')\n",
    "plt.ylabel('Temperature')\n",
    "plt.title('Northern Hemisphere - Temperature (F) vs. Latitude')\n",
    "plt.savefig('Nothern-TempvsLat.png')\n",
    "plt.show()\n",
    "print(f\"The r-squared is: {rvalue**2}\")"
   ]
  },
  {
   "cell_type": "markdown",
   "metadata": {},
   "source": [
    "The plot shows strong negative linear relationship between temperatarure and latitude in Northern Hemisphere. "
   ]
  },
  {
   "cell_type": "markdown",
   "metadata": {},
   "source": [
    "# Southern Hemisphere - Temperature (F) vs. Latitude"
   ]
  },
  {
   "cell_type": "code",
   "execution_count": 13,
   "metadata": {
    "ExecuteTime": {
     "end_time": "2020-10-18T11:25:21.328599Z",
     "start_time": "2020-10-18T11:25:21.154951Z"
    }
   },
   "outputs": [
    {
     "data": {
      "image/png": "[encoded data removed]",
      "text/plain": [
       "<Figure size 432x288 with 1 Axes>"
      ]
     },
     "metadata": {
      "needs_background": "light"
     },
     "output_type": "display_data"
    },
    {
     "name": "stdout",
     "output_type": "stream",
     "text": [
      "The r-squared is: 0.549504486222731\n"
     ]
    }
   ],
   "source": [
    "#linear regression\n",
    "x_values = southern_df['Latitude']\n",
    "y_values = southern_df['Temperature']\n",
    "(slope, intercept, rvalue, pvalue, stderr) = linregress(x_values, y_values)\n",
    "regress_values = x_values * slope + intercept\n",
    "line_eq = \"y = \" + str(round(slope,2)) + \"x + \" + str(round(intercept,2))\n",
    "plt.scatter(x_values,y_values)\n",
    "plt.plot(x_values,regress_values,\"r-\")\n",
    "plt.annotate(line_eq,(-30,50),fontsize=15,color=\"red\")\n",
    "plt.xlabel('Latitude')\n",
    "plt.ylabel('Temperature')\n",
    "plt.title('Southern Hemisphere - Temperature (F) vs. Latitude')\n",
    "plt.savefig('Southern-TempvsLat.png')\n",
    "plt.show()\n",
    "print(f\"The r-squared is: {rvalue**2}\")"
   ]
  },
  {
   "cell_type": "markdown",
   "metadata": {},
   "source": [
    "The plot shows moderate positive linear relationship between temperatarure and latitude in Southern Hemisphere."
   ]
  },
  {
   "cell_type": "markdown",
   "metadata": {},
   "source": [
    "# Northern Hemisphere - Humidity (%) vs. Latitude"
   ]
  },
  {
   "cell_type": "code",
   "execution_count": 14,
   "metadata": {
    "ExecuteTime": {
     "end_time": "2020-10-18T11:25:21.584025Z",
     "start_time": "2020-10-18T11:25:21.330537Z"
    }
   },
   "outputs": [
    {
     "data": {
      "image/png": "[encoded data removed]",
      "text/plain": [
       "<Figure size 432x288 with 1 Axes>"
      ]
     },
     "metadata": {
      "needs_background": "light"
     },
     "output_type": "display_data"
    },
    {
     "name": "stdout",
     "output_type": "stream",
     "text": [
      "The r-squared is: 0.06675884264247124\n"
     ]
    }
   ],
   "source": [
    "#linear regression\n",
    "x_values = northern_df['Latitude']\n",
    "y_values = northern_df['Humidity']\n",
    "(slope, intercept, rvalue, pvalue, stderr) = linregress(x_values, y_values)\n",
    "regress_values = x_values * slope + intercept\n",
    "line_eq = \"y = \" + str(round(slope,2)) + \"x + \" + str(round(intercept,2))\n",
    "plt.scatter(x_values,y_values)\n",
    "plt.plot(x_values,regress_values,\"r-\")\n",
    "plt.annotate(line_eq,(6,10),fontsize=15,color=\"red\")\n",
    "plt.xlabel('Latitude')\n",
    "plt.ylabel('Humidity')\n",
    "plt.title('Northern Hemisphere - Humidity (%) vs. Latitude')\n",
    "plt.savefig('Nothern-HumidityvsLat.png')\n",
    "plt.show()\n",
    "print(f\"The r-squared is: {rvalue**2}\")"
   ]
  },
  {
   "cell_type": "markdown",
   "metadata": {},
   "source": [
    "The plot shows very weak linear relationship between humidity and latitude in Northern Hemisphere."
   ]
  },
  {
   "cell_type": "markdown",
   "metadata": {},
   "source": [
    "# Southern Hemisphere - Humidity (%) vs. Latitude"
   ]
  },
  {
   "cell_type": "code",
   "execution_count": 15,
   "metadata": {
    "ExecuteTime": {
     "end_time": "2020-10-18T11:25:21.724886Z",
     "start_time": "2020-10-18T11:25:21.586003Z"
    }
   },
   "outputs": [
    {
     "data": {
      "image/png": "[encoded data removed]",
      "text/plain": [
       "<Figure size 432x288 with 1 Axes>"
      ]
     },
     "metadata": {
      "needs_background": "light"
     },
     "output_type": "display_data"
    },
    {
     "name": "stdout",
     "output_type": "stream",
     "text": [
      "The r-squared is: 0.00029772058871751567\n"
     ]
    }
   ],
   "source": [
    "#linear regression\n",
    "x_values = southern_df['Latitude']\n",
    "y_values = southern_df['Humidity']\n",
    "(slope, intercept, rvalue, pvalue, stderr) = linregress(x_values, y_values)\n",
    "regress_values = x_values * slope + intercept\n",
    "line_eq = \"y = \" + str(round(slope,2)) + \"x + \" + str(round(intercept,2))\n",
    "plt.scatter(x_values,y_values)\n",
    "plt.plot(x_values,regress_values,\"r-\")\n",
    "plt.annotate(line_eq,(-30,50),fontsize=15,color=\"red\")\n",
    "plt.xlabel('Latitude')\n",
    "plt.ylabel('Humidity')\n",
    "plt.title('Southern Hemisphere - Humidity (%) vs. Latitude')\n",
    "plt.savefig('Southern-HumidityvsLat.png')\n",
    "plt.show()\n",
    "print(f\"The r-squared is: {rvalue**2}\")"
   ]
  },
  {
   "cell_type": "markdown",
   "metadata": {},
   "source": [
    "The plot shows very weak relationship between humidity and latitude in Southern Hemisphere."
   ]
  },
  {
   "cell_type": "markdown",
   "metadata": {},
   "source": [
    "# Northern Hemisphere - Cloudiness (%) vs. Latitude"
   ]
  },
  {
   "cell_type": "code",
   "execution_count": 16,
   "metadata": {
    "ExecuteTime": {
     "end_time": "2020-10-18T11:25:21.892026Z",
     "start_time": "2020-10-18T11:25:21.726839Z"
    }
   },
   "outputs": [
    {
     "data": {
      "image/png": "[encoded data removed]",
      "text/plain": [
       "<Figure size 432x288 with 1 Axes>"
      ]
     },
     "metadata": {
      "needs_background": "light"
     },
     "output_type": "display_data"
    },
    {
     "name": "stdout",
     "output_type": "stream",
     "text": [
      "The r-squared is: 0.02340614299420051\n"
     ]
    }
   ],
   "source": [
    "#linear regression\n",
    "x_values = northern_df['Latitude']\n",
    "y_values = northern_df['Cloudiness']\n",
    "(slope, intercept, rvalue, pvalue, stderr) = linregress(x_values, y_values)\n",
    "regress_values = x_values * slope + intercept\n",
    "line_eq = \"y = \" + str(round(slope,2)) + \"x + \" + str(round(intercept,2))\n",
    "plt.scatter(x_values,y_values)\n",
    "plt.plot(x_values,regress_values,\"r-\")\n",
    "plt.annotate(line_eq,(6,10),fontsize=15,color=\"red\")\n",
    "plt.xlabel('Latitude')\n",
    "plt.ylabel('Cloudiness')\n",
    "plt.title('Northern Hemisphere - Cloudiness (%) vs. Latitude')\n",
    "plt.savefig('Nothern-CloudinessvsLat.png')\n",
    "plt.show()\n",
    "print(f\"The r-squared is: {rvalue**2}\")"
   ]
  },
  {
   "cell_type": "markdown",
   "metadata": {
    "ExecuteTime": {
     "end_time": "2020-10-18T09:35:27.881660Z",
     "start_time": "2020-10-18T09:35:27.876229Z"
    }
   },
   "source": [
    "The plot shows no relationship between cloudiness and latitude in Northern Hemisphere."
   ]
  },
  {
   "cell_type": "markdown",
   "metadata": {},
   "source": [
    "# Southern Hemisphere - Cloudiness (%) vs. Latitude\n"
   ]
  },
  {
   "cell_type": "code",
   "execution_count": 17,
   "metadata": {
    "ExecuteTime": {
     "end_time": "2020-10-18T11:25:22.038843Z",
     "start_time": "2020-10-18T11:25:21.893017Z"
    }
   },
   "outputs": [
    {
     "data": {
      "image/png": "[encoded data removed]",
      "text/plain": [
       "<Figure size 432x288 with 1 Axes>"
      ]
     },
     "metadata": {
      "needs_background": "light"
     },
     "output_type": "display_data"
    },
    {
     "name": "stdout",
     "output_type": "stream",
     "text": [
      "The r-squared is: 0.0005762418229735593\n"
     ]
    }
   ],
   "source": [
    "#linear regression\n",
    "x_values = southern_df['Latitude']\n",
    "y_values = southern_df['Cloudiness']\n",
    "(slope, intercept, rvalue, pvalue, stderr) = linregress(x_values, y_values)\n",
    "regress_values = x_values * slope + intercept\n",
    "line_eq = \"y = \" + str(round(slope,2)) + \"x + \" + str(round(intercept,2))\n",
    "plt.scatter(x_values,y_values)\n",
    "plt.plot(x_values,regress_values,\"r-\")\n",
    "plt.annotate(line_eq,(-30,50),fontsize=15,color=\"red\")\n",
    "plt.xlabel('Latitude')\n",
    "plt.ylabel('Cloudiness')\n",
    "plt.title('Southern Hemisphere - Cloudiness (%) vs. Latitude')\n",
    "plt.savefig('Southern-CloudinessvsLat.png')\n",
    "plt.show()\n",
    "print(f\"The r-squared is: {rvalue**2}\")"
   ]
  },
  {
   "cell_type": "markdown",
   "metadata": {},
   "source": [
    "The plot shows no relationship between cloudiness and latitude in Southern Hemisphere."
   ]
  },
  {
   "cell_type": "markdown",
   "metadata": {},
   "source": [
    "# Northern Hemisphere - Wind Speed (mph) vs. Latitude"
   ]
  },
  {
   "cell_type": "code",
   "execution_count": 18,
   "metadata": {
    "ExecuteTime": {
     "end_time": "2020-10-18T11:25:22.194596Z",
     "start_time": "2020-10-18T11:25:22.040319Z"
    }
   },
   "outputs": [
    {
     "data": {
      "image/png": "[encoded data removed]",
      "text/plain": [
       "<Figure size 432x288 with 1 Axes>"
      ]
     },
     "metadata": {
      "needs_background": "light"
     },
     "output_type": "display_data"
    },
    {
     "name": "stdout",
     "output_type": "stream",
     "text": [
      "The r-squared is: 0.01073855749634062\n"
     ]
    }
   ],
   "source": [
    "#linear regression\n",
    "x_values = northern_df['Latitude']\n",
    "y_values = northern_df['Wind Speed']\n",
    "(slope, intercept, rvalue, pvalue, stderr) = linregress(x_values, y_values)\n",
    "regress_values = x_values * slope + intercept\n",
    "line_eq = \"y = \" + str(round(slope,2)) + \"x + \" + str(round(intercept,2))\n",
    "plt.scatter(x_values,y_values)\n",
    "plt.plot(x_values,regress_values,\"r-\")\n",
    "plt.annotate(line_eq,(6,10),fontsize=15,color=\"red\")\n",
    "plt.xlabel('Latitude')\n",
    "plt.ylabel('Wind Speed')\n",
    "plt.title('Northern Hemisphere - Wind Speed (mph) vs. Latitude')\n",
    "plt.savefig('Nothern-WindSpeedvsLat.png')\n",
    "plt.show()\n",
    "print(f\"The r-squared is: {rvalue**2}\")"
   ]
  },
  {
   "cell_type": "markdown",
   "metadata": {
    "ExecuteTime": {
     "end_time": "2020-10-18T09:41:34.137130Z",
     "start_time": "2020-10-18T09:41:34.132666Z"
    }
   },
   "source": [
    "The plot shows no relationship between wind speed and latitude in Northern Hemisphere."
   ]
  },
  {
   "cell_type": "markdown",
   "metadata": {},
   "source": [
    "# Southern Hemisphere - Wind Speed (mph) vs. Latitude"
   ]
  },
  {
   "cell_type": "code",
   "execution_count": 19,
   "metadata": {
    "ExecuteTime": {
     "end_time": "2020-10-18T11:25:22.338922Z",
     "start_time": "2020-10-18T11:25:22.196055Z"
    }
   },
   "outputs": [
    {
     "data": {
      "image/png": "[encoded data removed]",
      "text/plain": [
       "<Figure size 432x288 with 1 Axes>"
      ]
     },
     "metadata": {
      "needs_background": "light"
     },
     "output_type": "display_data"
    },
    {
     "name": "stdout",
     "output_type": "stream",
     "text": [
      "The r-squared is: 0.010620690984987148\n"
     ]
    }
   ],
   "source": [
    "#linear regression\n",
    "x_values = southern_df['Latitude']\n",
    "y_values = southern_df['Wind Speed']\n",
    "(slope, intercept, rvalue, pvalue, stderr) = linregress(x_values, y_values)\n",
    "regress_values = x_values * slope + intercept\n",
    "line_eq = \"y = \" + str(round(slope,2)) + \"x + \" + str(round(intercept,2))\n",
    "plt.scatter(x_values,y_values)\n",
    "plt.plot(x_values,regress_values,\"r-\")\n",
    "plt.annotate(line_eq,(-30,15),fontsize=15,color=\"red\")\n",
    "plt.xlabel('Latitude')\n",
    "plt.ylabel('Wind Speed')\n",
    "plt.title('Southern Hemisphere - Wind Speed (mph) vs. Latitude')\n",
    "plt.savefig('Southern-WindSpeedvsLat.png')\n",
    "plt.show()\n",
    "print(f\"The r-squared is: {rvalue**2}\")"
   ]
  },
  {
   "cell_type": "markdown",
   "metadata": {},
   "source": [
    "The plot shows no relationship between wind speed and latitude in Southern Hemisphere."
   ]
  }
 ],
 "metadata": {
  "hide_input": false,
  "kernelspec": {
   "display_name": "Python 3",
   "language": "python",
   "name": "python3"
  },
  "language_info": {
   "codemirror_mode": {
    "name": "ipython",
    "version": 3
   },
   "file_extension": ".py",
   "mimetype": "text/x-python",
   "name": "python",
   "nbconvert_exporter": "python",
   "pygments_lexer": "ipython3",
   "version": "3.7.9"
  },
  "varInspector": {
   "cols": {
    "lenName": 16,
    "lenType": 16,
    "lenVar": 40
   },
   "kernels_config": {
    "python": {
     "delete_cmd_postfix": "",
     "delete_cmd_prefix": "del ",
     "library": "var_list.py",
     "varRefreshCmd": "print(var_dic_list())"
    },
    "r": {
     "delete_cmd_postfix": ") ",
     "delete_cmd_prefix": "rm(",
     "library": "var_list.r",
     "varRefreshCmd": "cat(var_dic_list()) "
    }
   },
   "types_to_exclude": [
    "module",
    "function",
    "builtin_function_or_method",
    "instance",
    "_Feature"
   ],
   "window_display": false
  }
 },
 "nbformat": 4,
 "nbformat_minor": 2
}
